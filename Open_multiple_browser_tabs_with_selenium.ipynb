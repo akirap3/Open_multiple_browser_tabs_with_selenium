{
 "cells": [
  {
   "cell_type": "markdown",
   "metadata": {},
   "source": [
    "## Open multiple browser tabs with Selenium"
   ]
  },
  {
   "cell_type": "code",
   "execution_count": 103,
   "metadata": {},
   "outputs": [],
   "source": [
    "from selenium import webdriver\n",
    "from selenium.webdriver.common.keys import Keys\n",
    "from selenium.webdriver.chrome.options import Options\n",
    "import time"
   ]
  },
  {
   "cell_type": "code",
   "execution_count": 104,
   "metadata": {},
   "outputs": [],
   "source": [
    "# create an instance of selenium driver\n",
    "def create_instance(target_url):\n",
    "    options = Options()\n",
    "    options.binary_location = \"C:\\\\Program Files (x86)\\\\Google\\\\Chrome\\\\Application\\\\chrome.exe\"\n",
    "    webdriver_path = 'The_path_of_chromedriver.exe'\n",
    "    driver = webdriver.Chrome(executable_path=webdriver_path, options=options)\n",
    "    driver.get(target_url)\n",
    "    driver.maximize_window()\n",
    "    return driver"
   ]
  },
  {
   "cell_type": "code",
   "execution_count": null,
   "metadata": {},
   "outputs": [],
   "source": [
    "# open chrome and log in your specific system (find element by name)\n",
    "def open_browser_and_login_by_name(url, elm_username_name, elm_password_name, username, password, elm_submit_xpath):\n",
    "    driver = create_instance(url)\n",
    "    user_element = driver.find_element_by_name(elm_username_name)\n",
    "    password_element = driver.find_element_by_name(elm_password_name)\n",
    "    user_element.send_keys(username)\n",
    "    password_element.send_keys(password)\n",
    "    form = driver.find_element_by_xpath(elm_submit_xpath).click()\n",
    "    time.sleep(1)\n",
    "    return driver"
   ]
  },
  {
   "cell_type": "code",
   "execution_count": 105,
   "metadata": {},
   "outputs": [],
   "source": [
    "# open chrome and log in your specific system (find element by id)\n",
    "def open_browser_and_login_by_id(url, elm_username_name, elm_password_name, username, password, elm_submit_xpath):\n",
    "    driver = create_instance(url)\n",
    "    user_element = driver.find_element_by_id(elm_username_name)\n",
    "    password_element = driver.find_element_by_id(elm_password_name)\n",
    "    user_element.send_keys(username)\n",
    "    password_element.send_keys(password)\n",
    "    form = driver.find_element_by_xpath(elm_submit_xpath).click()\n",
    "    time.sleep(1)\n",
    "    return driver"
   ]
  },
  {
   "cell_type": "code",
   "execution_count": 106,
   "metadata": {},
   "outputs": [],
   "source": [
    "# create tab and open by finding link text\n",
    "def open_tab(driver, tab_number, url, text):\n",
    "    driver.execute_script(\"window.open('about:blank', '\"+tab_number+\"');\")\n",
    "    driver.switch_to.window(tab_number)\n",
    "    driver.get(url)\n",
    "    time.sleep(1)\n",
    "    continue_link2 = driver.find_element_by_link_text(text).click()"
   ]
  },
  {
   "cell_type": "code",
   "execution_count": 107,
   "metadata": {},
   "outputs": [],
   "source": [
    "# create tab and open by input username, password, and clik submit\n",
    "def open_tab_and_login(driver, tab_number, url, elm_username_name, elm_password_name, username, password, elm_submit_xpath):\n",
    "    driver.execute_script(\"window.open('about:blank', '\"+tab_number+\"');\")\n",
    "    driver.switch_to.window(tab_number)\n",
    "    driver.get(url)\n",
    "    time.sleep(1)\n",
    "    user_element = driver.find_element_by_name(elm_username_name)\n",
    "    password_element = driver.find_element_by_name(elm_password_name)\n",
    "    user_element.send_keys(username)\n",
    "    password_element.send_keys(password)\n",
    "    form = driver.find_element_by_xpath(elm_submit_xpath).click()\n",
    "    time.sleep(1)"
   ]
  },
  {
   "cell_type": "code",
   "execution_count": 108,
   "metadata": {},
   "outputs": [],
   "source": [
    "# collect your data details\n",
    "\n",
    "'''\n",
    "data1 format is \n",
    "{\"username\": \"value\", \n",
    " \"password\": \"value\", \n",
    " \"url\": \"value\", \n",
    " \"element_username_name\": \"value\", \n",
    " \"element_password_name\": \"value\", \n",
    " \"element_submit_xpath\": \"value\"\n",
    "}\n",
    "\n",
    "data2 format is \n",
    "{\"username\": \"value\", \n",
    " \"password\": \"value\", \n",
    " \"url\": \"value\", \n",
    " \"element_username_id\": \"value\", \n",
    " \"element_password_id\": \"value\", \n",
    " \"element_submit_xpath\": \"value\"\n",
    "}\n",
    "\n",
    "'''\n",
    "# use username for element of username and password\n",
    "data1 = {\"Grafana_data\": {\"username\": \"your_Grafana_username\", \n",
    "                         \"password\": \"your_Grafana_password\",\n",
    "                         \"url\": \"your_grafana_url\", \n",
    "                         \"element_username_name\": \"username\", \n",
    "                         \"element_password_name\": \"password\", \n",
    "                         \"element_submit_xpath\": \"//button[@class='btn btn-large p-x-2 btn-primary']\"},\n",
    "        \"Zabbix_data\": {\"username\": \"your_Zabix_username\",\n",
    "                        \"password\": \"your_Zabbix_password\",\n",
    "                        \"url\": \"your_Zabbix_url\",\n",
    "                        \"element_username_name\": \"name\",\n",
    "                        \"element_password_name\": \"password\",\n",
    "                        \"element_submit_xpath\":  \"//button[@id='enter']\"},     \n",
    "       }\n",
    "\n",
    "# use id for element of username and password\n",
    "data2 = { \"JKB_data\": {\"username\": \"your_JKB_username\",\n",
    "                       \"password\": \"your_JKB_password\",\n",
    "                       \"url\": \"JKB_login_url\",\n",
    "                       \"element_username_id\": \"email\",\n",
    "                       \"element_password_id\": \"pwd\",\n",
    "                       \"element_submit_xpath\":  \"//button[@id='sigin_btn']\"}   \n",
    "        }"
   ]
  },
  {
   "cell_type": "code",
   "execution_count": 109,
   "metadata": {},
   "outputs": [],
   "source": [
    "# data for opening several tabs\n",
    "Grafana_tab_list =[[\"tab2\",\"the_text_of_subpage_for_tab2\"],\n",
    "                   [\"tab3\",\"the_text_of_subpage_for_tab3\"],\n",
    "                   [\"tab4\",\"the_text_of_subpage_for_tab4\"],\n",
    "                   [\"tab5\",\"the_text_of_subpage_for_tab5\"],\n",
    "                   [\"tab6\",\"the_text_of_subpage_for_tab6\"],\n",
    "                   [\"tab7\",\"the_text_of_subpage_for_tab7\"],\n",
    "                   [\"tab8\",\"the_text_of_subpage_for_tab8\"],\n",
    "                   [\"tab9\",\"the_text_of_subpage_for_tab9\"],\n",
    "                   [\"tab10\",\"the_text_of_subpage_for_tab10\"],\n",
    "                   [\"tab11\",\"the_text_of_subpage_for_tab11\"],\n",
    "                   [\"tab12\",\"the_text_of_subpage_for_tab12\"]]"
   ]
  },
  {
   "cell_type": "code",
   "execution_count": 110,
   "metadata": {},
   "outputs": [],
   "source": [
    "# create a specific driver and open several tabs, take Grafana system for example\n",
    "driver = open_browser_and_login(data1[\"Grafana_data\"][\"url\"], \n",
    "                       data1[\"Grafana_data\"][\"element_username_name\"], \n",
    "                       data1[\"Grafana_data\"][\"element_password_name\"], \n",
    "                       data1[\"Grafana_data\"][\"username\"], \n",
    "                       data1[\"Grafana_data\"][\"password\"], \n",
    "                       data1[\"Grafana_data\"][\"element_submit_xpath\"]\n",
    "                      )\n",
    "\n",
    "for tab in Grafana_tab_list:\n",
    "    open_tab(driver, tab[0], data1[\"Grafana_data\"][\"url\"], tab[1])"
   ]
  },
  {
   "cell_type": "code",
   "execution_count": null,
   "metadata": {},
   "outputs": [],
   "source": []
  }
 ],
 "metadata": {
  "kernelspec": {
   "display_name": "Python 3",
   "language": "python",
   "name": "python3"
  },
  "language_info": {
   "codemirror_mode": {
    "name": "ipython",
    "version": 3
   },
   "file_extension": ".py",
   "mimetype": "text/x-python",
   "name": "python",
   "nbconvert_exporter": "python",
   "pygments_lexer": "ipython3",
   "version": "3.7.4"
  }
 },
 "nbformat": 4,
 "nbformat_minor": 2
}
